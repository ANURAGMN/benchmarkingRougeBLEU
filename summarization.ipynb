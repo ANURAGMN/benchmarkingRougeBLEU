{
 "cells": [
  {
   "cell_type": "markdown",
   "metadata": {},
   "source": [
    "### Evaluate LLM model for summarization using pipelines"
   ]
  },
  {
   "cell_type": "code",
   "execution_count": 1,
   "metadata": {},
   "outputs": [],
   "source": [
    "# !pip install transformers datasets evaluate rouge_score"
   ]
  },
  {
   "cell_type": "code",
   "execution_count": 7,
   "metadata": {},
   "outputs": [
    {
     "name": "stdout",
     "output_type": "stream",
     "text": [
      "Split : train\n",
      "Dataset({\n",
      "    features: ['text', 'summary', 'title'],\n",
      "    num_rows: 18949\n",
      "})\n",
      "Number of examples : 18949\n",
      "\n",
      "Split : test\n",
      "Dataset({\n",
      "    features: ['text', 'summary', 'title'],\n",
      "    num_rows: 3269\n",
      "})\n",
      "Number of examples : 3269\n",
      "\n",
      "Split : ca_test\n",
      "Dataset({\n",
      "    features: ['text', 'summary', 'title'],\n",
      "    num_rows: 1237\n",
      "})\n",
      "Number of examples : 1237\n",
      "\n"
     ]
    }
   ],
   "source": [
    "# load the dataset\n",
    "from datasets import load_dataset\n",
    "\n",
    "billsum = load_dataset(\"billsum\")\n",
    "\n",
    "# splits of the dataset\n",
    "for split in billsum:\n",
    "    print(f\"Split : {split}\")\n",
    "    print(f\"{billsum[split]}\")\n",
    "    print(f\"Number of examples : {len(billsum[split])}\")\n",
    "    print()"
   ]
  },
  {
   "cell_type": "code",
   "execution_count": 8,
   "metadata": {},
   "outputs": [
    {
     "name": "stdout",
     "output_type": "stream",
     "text": [
      "Text : The people of the State of California do enact as follows:\n",
      "\n",
      "\n",
      "SECTION 1.\n",
      "Section 1031 of the Government Code is amended to read:\n",
      "1031.\n",
      "Each class of public officers or employees declared by law to be peace officers shall meet all of the following minimum standards:\n",
      "(a) Be a citizen of the United States or a permanent resident alien who is eligible for and has applied for citizenship, except as provided in Section 2267 of the Vehicle Code.\n",
      "(b) Be at least 18 years of age.\n",
      "(c) Be fingerprinted for purposes of search of local, state, and national fingerprint files to disclose a criminal record.\n",
      "(d) Be of good moral character, as determined by a thorough background investigation.\n",
      "(e) Be a high school graduate, pass the General Education Development Test or other high school equivalency test approved by the State Department of Education that indicates high school graduation level, pass the California High School Proficiency Examination, or have attained a two-year, four-year, or advanced degree from an accredited college or university. The high school shall be either a United States public school, an accredited United States Department of Defense high school, or an accredited or approved public or nonpublic high school. Any accreditation or approval required by this subdivision shall be from a state or local government educational agency using local or state government approved accreditation, licensing, registration, or other approval standards, a regional accrediting association, an accrediting association recognized by the Secretary of the United States Department of Education, an accrediting association holding full membership in the National Council for Private School Accreditation (NCPSA), an organization holding full membership in AdvancED, an organization holding full membership in the Council for American Private Education (CAPE), or an accrediting association recognized by the National Federation of Nonpublic School State Accrediting Associations (NFNSSAA).\n",
      "(f) Be found to be free from any physical, emotional, or mental condition that might adversely affect the exercise of the powers of a peace officer.\n",
      "(1) Physical condition shall be evaluated by a licensed physician and surgeon.\n",
      "(2) Emotional and mental condition shall be evaluated by either of the following:\n",
      "(A) A physician and surgeon who holds a valid California license to practice medicine, has successfully completed a postgraduate medical residency education program in psychiatry accredited by the Accreditation Council for Graduate Medical Education, and has at least the equivalent of five full-time years of experience in the diagnosis and treatment of emotional and mental disorders, including the equivalent of three full-time years accrued after completion of the psychiatric residency program.\n",
      "(B) A psychologist licensed by the California Board of Psychology who has at least the equivalent of five full-time years of experience in the diagnosis and treatment of emotional and mental disorders, including the equivalent of three full-time years accrued postdoctorate.\n",
      "The physician and surgeon or psychologist shall also have met any applicable education and training procedures set forth by the California Commission on Peace Officer Standards and Training designed for the conduct of preemployment psychological screening of peace officers.\n",
      "(g) This section shall not be construed to preclude the adoption of additional or higher standards, including age.\n",
      "SEC. 2.\n",
      "Section 384a of the Penal Code is amended to read:\n",
      "384a.\n",
      "(a) (1) A person shall not willfully or negligently cut, destroy, mutilate, or remove plant material that is growing upon state or county highway rights-of-way.\n",
      "(2) A person shall not willfully or negligently cut, destroy, mutilate, or remove plant material that is growing upon public land or upon land that is not his or hers without a written permit from the owner of the land, signed by the owner of the land or the owner’s authorized agent, as provided in subdivision (c).\n",
      "(3) A person shall not knowingly sell, offer or expose for sale, or transport for sale plant material that is cut or removed in violation of this subdivision.\n",
      "(b) For purposes of this section, “plant material” means a tree, shrub, fern, herb, bulb, cactus, flower, huckleberry, or redwood green, or a portion of any of those, or the leaf mold on those plants. “Plant material” does not include a tree, shrub, fern, herb, bulb, cactus, flower, or greens declared by law to be a public nuisance.\n",
      "(c) (1) The written permit required by paragraph (2) of subdivision (a) shall be signed by the landowner, or the landowner’s authorized agent, and acknowledged before a notary public, or other person authorized by law to take acknowledgments. The permit shall contain the number and species of trees and amount of plant material, and shall contain the legal description of the real property as usually found in deeds and conveyances of the land on which cutting or removal shall take place. One copy of the permit shall be filed in the office of the sheriff of the county in which the land described in the permit is located. The permit shall be filed prior to the commencement of cutting or removal of plant material authorized by the permit.\n",
      "(2) The permit required by this section need not be notarized or filed with the sheriff when five or less pounds of shrubs or boughs are to be cut or removed.\n",
      "(d) A county or state fire warden; personnel of the Department of Forestry and Fire Protection, as designated by the Director of Forestry and Fire Protection; personnel of the United States Forest Service, as designated by the Regional Forester, Region 5, of the United States Forest Service; or a peace officer of the State of California, may enforce the provisions of this section and may confiscate any and all plant material unlawfully cut or removed or knowingly sold, offered, or exposed or transported for sale as provided in this section.\n",
      "(e) This section does not apply to any of the following:\n",
      "(1) An employee of the state or of a political subdivision of the state who is engaged in work upon a state, county, or public road or highway while performing work under the supervision of the state or a political subdivision of the state.\n",
      "(2) A person engaged in the necessary cutting or trimming of plant material for the purpose of protecting or maintaining an electric powerline, telephone line, or other property of a public utility.\n",
      "(3) A person engaged in logging operations or fire suppression.\n",
      "(f) A violation of this section shall be a misdemeanor, punishable by a fine of not more than one thousand dollars ($1,000), by imprisonment in a county jail for not more than six months, or by both that fine and imprisonment.\n",
      "SEC. 3.\n",
      "Section 849 of the Penal Code is amended to read:\n",
      "849.\n",
      "(a) When an arrest is made without a warrant by a peace officer or private person, the person arrested, if not otherwise released, shall, without unnecessary delay, be taken before the nearest or most accessible magistrate in the county in which the offense is triable, and a complaint stating the charge against the arrested person shall be laid before the magistrate.\n",
      "(b) A peace officer may release from custody, instead of taking the person before a magistrate, a person arrested without a warrant in the following circumstances:\n",
      "(1) The officer is satisfied that there are insufficient grounds for making a criminal complaint against the person arrested.\n",
      "(2) The person arrested was arrested for intoxication only, and no further proceedings are desirable.\n",
      "(3) The person was arrested only for being under the influence of a controlled substance or drug and the person is delivered to a facility or hospital for treatment and no further proceedings are desirable.\n",
      "(4) The person was arrested for driving under the influence of alcohol or drugs and the person is delivered to a hospital for medical treatment that prohibits immediate delivery before a magistrate.\n",
      "(c) The record of arrest of a person released pursuant to paragraphs (1) and (3) of subdivision (b) shall include a record of release. Thereafter, the arrest shall not be deemed an arrest, but a detention only.\n",
      "SEC. 4.\n",
      "Section 4131.5 of the Penal Code is amended and renumbered to read:\n",
      "243.15.\n",
      "Every person confined in, sentenced to, or serving a sentence in, a city or county jail, industrial farm, or industrial road camp in this state, who commits a battery upon the person of any individual who is not himself or herself a person confined or sentenced therein, is guilty of a public offense and is subject to punishment by imprisonment pursuant to subdivision (h) of Section 1170, or in a county jail for not more than one year.\n",
      "SEC. 5.\n",
      "Section 4504 of the Penal Code is amended to read:\n",
      "4504.\n",
      "For purposes of this chapter:\n",
      "(a) A person is deemed confined in a “state prison” if he or she is confined in any of the prisons and institutions specified in Section 5003 by order made pursuant to law, including, but not limited to, commitments to the Department of Corrections and Rehabilitation or the Department of Corrections and Rehabilitation, Division of Juvenile Justice, regardless of the purpose of the confinement and regardless of the validity of the order directing the confinement, until a judgment of a competent court setting aside the order becomes final.\n",
      "(b) A person is deemed “confined in” a prison although, at the time of the offense, he or she is temporarily outside its walls or bounds for the purpose of serving on a work detail, for the purpose of confinement in a local correctional institution pending trial, or for any other purpose for which a prisoner may be allowed temporarily outside the walls or bounds of the prison. A prisoner who has been released on parole is not deemed “confined in” a prison for purposes of this chapter.\n",
      "SEC. 6.\n",
      "Section 5008 of the Public Resources Code is amended to read:\n",
      "5008.\n",
      "(a) The department shall protect the state park system and the state vehicular recreation area and trail system from damage and preserve the peace therein.\n",
      "(b) The director may designate any officer or employee of the department as a peace officer. The primary duties of the peace officer shall be the enforcement of this division, Sections 4442 and 4442.5, the rules and regulations of the department, Chapter 5 (commencing with Section 650) of Division 3 of the Harbors and Navigation Code, the rules and regulations of the Division of Boating and Waterways within the department, Chapter 2 (commencing with Section 9850) of Division 3.5 of the Vehicle Code, and Division 16.5 (commencing with Section 38000) of the Vehicle Code and to arrest persons for the commission of public offenses within the property under its jurisdiction. The authority and powers of the peace officer shall be limited to those conferred by law upon peace officers listed in Section 830.2 of the Penal Code.\n",
      "(c) The department shall protect property included in the California recreational trail system and the property included in the recreational trail system under Section 6 of Chapter 1234 of the Statutes of 1980 from damage and preserve the peace therein. The primary duties of any officer or employee designated a peace officer under this section shall include enforcement of the rules and regulations established by the department and the arrest of persons for the commission of public offenses within the property included in the recreational trail system under Section 6 of Chapter 1234 of the Statutes of 1980.\n",
      "(d) Any person who violates the rules and regulations established by the department is guilty of either a misdemeanor, punishable by imprisonment in the county jail not exceeding 90 days, or by a fine not exceeding one thousand dollars ($1,000), or by both that fine and imprisonment, or an infraction punishable by a fine of not more than one thousand dollars ($1,000).\n",
      "SEC. 7.\n",
      "Section 1403 of the Welfare and Institutions Code is repealed.\n",
      "\n",
      "Summary : (1) Existing law, when a person is arrested without a warrant, requires the person, if not otherwise released and without unnecessary delay, to be taken before the nearest or most accessible magistrate in the county in which the offense is triable, unless certain exemptions apply, including that the person was arrested for intoxication only and no further proceedings are desirable.\n",
      "This bill would exempt a person from the requirement of, without unnecessary delay, being taken before the nearest or most accessible magistrate in the county in which the offense is triable if the person is arrested for driving under the influence of alcohol or drugs and the person is delivered to a hospital for medical treatment that prohibits immediate delivery before a magistrate.\n",
      "(2) Existing law requires the Department of Parks and Recreation to protect the state park system and the state vehicular recreation area and trail system from damage and to preserve the peace therein. Existing law provides that a person who violates the rules and regulations established by the department is guilty of a misdemeanor and, upon conviction, shall be punished by imprisonment, as specified, except that at the time a particular action is commenced, the judge may, considering the recommendation of the prosecuting attorney, reduce the charged offense from a misdemeanor to an infraction. Existing law also requires that a person who is convicted of the offense after that reduction be punished by a fine of not less than $10 nor more than $1,000.\n",
      "This bill would instead make a person who violates those rules and regulations guilty of either a misdemeanor, punishable as provided under existing law, or an infraction, punishable by a fine of not more than $1,000. The bill would delete the mandatory minimum fine.\n",
      "(3) Existing law, the Interstate Compact for Juveniles, adopted by this state and effective until January 1, 2016, establishes an interstate commission of the compacting states to, among other things, oversee, supervise, and coordinate the interstate movement of juveniles.\n",
      "This bill would delete the repeal date of these provisions, and would thereby extend the operation of the provisions indefinitely.\n",
      "(4) This bill would make other technical, nonsubstantive changes.\n",
      "\n",
      "Title : An act to amend Section 1031 of the Government Code, to amend Sections 384a, 849, and 4504 of, and to amend and renumber Section 4131.5 of, the Penal Code, to amend Section 5008 of the Public Resources Code, and to repeal Section 1403 of the Welfare and Institutions Code, relating to public safety.\n"
     ]
    }
   ],
   "source": [
    "# random example from a split\n",
    "import random\n",
    "\n",
    "split = 'ca_test'\n",
    "eg = random.randint(0, len(billsum[split]))\n",
    "\n",
    "print(f\"Text : {billsum[split][eg]['text']}\")\n",
    "print()\n",
    "print(f\"Summary : {billsum[split][eg]['summary']}\")\n",
    "print()\n",
    "print(f\"Title : {billsum[split][eg]['title']}\")"
   ]
  },
  {
   "cell_type": "code",
   "execution_count": 39,
   "metadata": {},
   "outputs": [
    {
     "name": "stderr",
     "output_type": "stream",
     "text": [
      "Hardware accelerator e.g. GPU is available in the environment, but no `device` argument is passed to the `Pipeline` object. Model will be on CPU.\n",
      "Token indices sequence length is longer than the specified maximum sequence length for this model (1406 > 512). Running this sequence through the model will result in indexing errors\n"
     ]
    },
    {
     "name": "stdout",
     "output_type": "stream",
     "text": [
      "[{'summary_text': 'section 2192 of the Streets and Highways Code is amended to read: 2192 . the commission shall allocate funds to projects that have identified and committed supplemental funding from appropriate local, federal, or private sources . it may give priority for funding to projects with higher levels of committment .'}]\n"
     ]
    }
   ],
   "source": [
    "# summarize the random example\n",
    "from transformers import pipeline\n",
    "\n",
    "# summarizer = pipeline(\"summarization\")\n",
    "summarizer = pipeline(\"summarization\", model=\"google-t5/t5-small\")\n",
    "pred_summary = summarizer('summarize: ' + billsum[split][eg]['text'])\n",
    "# pred_summary = summarizer('summarize: ' + billsum[split][eg]['text'], min_length=75, max_length=300, do_sample=False)\n",
    "\n",
    "print(pred_summary)"
   ]
  },
  {
   "cell_type": "code",
   "execution_count": 6,
   "metadata": {},
   "outputs": [
    {
     "name": "stdout",
     "output_type": "stream",
     "text": [
      "{'rouge1': 0.284789644012945, 'rouge2': 0.0977198697068404, 'rougeL': 0.16828478964401297, 'rougeLsum': 0.20064724919093851}\n"
     ]
    }
   ],
   "source": [
    "# evaluate the result using rouge metric\n",
    "import evaluate\n",
    "\n",
    "rouge = evaluate.load('rouge')\n",
    "\n",
    "result = rouge.compute(predictions=[pred_summary[0]['summary_text']], references=[billsum[split][eg]['summary']])\n",
    "print(result)"
   ]
  },
  {
   "cell_type": "markdown",
   "metadata": {},
   "source": [
    "### Evaluate any model on billsum dataset using rouge metric"
   ]
  },
  {
   "cell_type": "code",
   "execution_count": 2,
   "metadata": {},
   "outputs": [
    {
     "name": "stdout",
     "output_type": "stream",
     "text": [
      "Split : ca_test\n",
      "Dataset({\n",
      "    features: ['text', 'summary', 'title'],\n",
      "    num_rows: 1237\n",
      "})\n",
      "\n"
     ]
    },
    {
     "name": "stderr",
     "output_type": "stream",
     "text": [
      "Token indices sequence length is longer than the specified maximum sequence length for this model (1694 > 512). Running this sequence through the model will result in indexing errors\n"
     ]
    },
    {
     "name": "stdout",
     "output_type": "stream",
     "text": [
      "\n",
      "Rouge Score : {'rouge1': 0.173212573146669, 'rouge2': 0.06451277215315138, 'rougeL': 0.1182440243345169, 'rougeLsum': 0.14274456177259698}\n"
     ]
    }
   ],
   "source": [
    "import random\n",
    "from transformers import pipeline\n",
    "from datasets import load_dataset\n",
    "import evaluate\n",
    "\n",
    "# Load the billsum dataset\n",
    "dataset = load_dataset(\"billsum\")\n",
    "\n",
    "# select split\n",
    "split = 'ca_test'\n",
    "# split = random.choice(['ca_test', 'test', 'train'])\n",
    "\n",
    "print(f\"Split : {split}\")\n",
    "print(f\"{dataset[split]}\")\n",
    "print()\n",
    "\n",
    "model_name = \"google-t5/t5-small\"\n",
    "summarizer = pipeline(\"summarization\", model=model_name, device='cuda')\n",
    "\n",
    "rouge = evaluate.load(\"rouge\")\n",
    "\n",
    "summaries = []\n",
    "references = []\n",
    "\n",
    "n_egs = 10\n",
    "\n",
    "# for idx in random.sample(range(len(dataset[split])), n_egs):\n",
    "for idx in range(n_egs):\n",
    "    text = dataset[split][idx]['text']\n",
    "    reference_summary = dataset[split][idx]['summary']\n",
    "    \n",
    "    summarized_text = summarizer(text, max_length=150, min_length=40, do_sample=False)[0]['summary_text']\n",
    "    \n",
    "    summaries.append(summarized_text)\n",
    "    references.append(reference_summary)\n",
    "\n",
    "results = rouge.compute(predictions=summaries, references=references)\n",
    "\n",
    "print(f\"\\nRouge Score : {results}\")"
   ]
  },
  {
   "cell_type": "markdown",
   "metadata": {},
   "source": [
    "### Evaluate any model on billsum dataset using bleu score"
   ]
  },
  {
   "cell_type": "code",
   "execution_count": 3,
   "metadata": {},
   "outputs": [
    {
     "name": "stdout",
     "output_type": "stream",
     "text": [
      "Split : ca_test\n",
      "Dataset({\n",
      "    features: ['text', 'summary', 'title'],\n",
      "    num_rows: 1237\n",
      "})\n",
      "\n"
     ]
    },
    {
     "name": "stderr",
     "output_type": "stream",
     "text": [
      "Token indices sequence length is longer than the specified maximum sequence length for this model (1694 > 512). Running this sequence through the model will result in indexing errors\n"
     ]
    },
    {
     "name": "stdout",
     "output_type": "stream",
     "text": [
      "\n",
      "BLEU Score: 0.0011\n"
     ]
    }
   ],
   "source": [
    "import random\n",
    "from transformers import pipeline\n",
    "from datasets import load_dataset\n",
    "from nltk.translate.bleu_score import corpus_bleu\n",
    "\n",
    "# Load the billsum dataset\n",
    "dataset = load_dataset(\"billsum\")\n",
    "\n",
    "# select split\n",
    "split = 'ca_test'\n",
    "# split = random.choice(['ca_test', 'test', 'train'])\n",
    "\n",
    "print(f\"Split : {split}\")\n",
    "print(f\"{dataset[split]}\")\n",
    "print()\n",
    "\n",
    "model_name = \"google-t5/t5-small\"\n",
    "summarizer = pipeline(\"summarization\", model=model_name, device='cuda')\n",
    "\n",
    "# Evaluate the model using BLEU score\n",
    "references = []\n",
    "hypotheses = []\n",
    "\n",
    "n_egs = 10\n",
    "\n",
    "# for idx in random.sample(range(len(dataset[split])), n_egs):\n",
    "for idx in range(n_egs):\n",
    "    text = dataset[split][idx]['text']\n",
    "    reference_summary = dataset[split][idx]['summary']\n",
    "\n",
    "    # Generate summary using the model\n",
    "    generated_summary = summarizer(text, max_length=150, min_length=30, do_sample=False)[0]['summary_text']\n",
    "\n",
    "    references.append([reference_summary.split()])\n",
    "    hypotheses.append(generated_summary.split())\n",
    "\n",
    "# Calculate BLEU score\n",
    "bleu_score = corpus_bleu(references, hypotheses)\n",
    "print(f\"\\nBLEU Score: {bleu_score:.4f}\")"
   ]
  },
  {
   "cell_type": "markdown",
   "metadata": {},
   "source": [
    "## Summarization task from huggingface\n",
    "https://huggingface.co/docs/transformers/en/tasks/summarization  "
   ]
  },
  {
   "cell_type": "code",
   "execution_count": 1,
   "metadata": {},
   "outputs": [
    {
     "name": "stderr",
     "output_type": "stream",
     "text": [
      "e:\\Miniconda3\\envs\\rsgrp\\Lib\\site-packages\\tqdm\\auto.py:21: TqdmWarning: IProgress not found. Please update jupyter and ipywidgets. See https://ipywidgets.readthedocs.io/en/stable/user_install.html\n",
      "  from .autonotebook import tqdm as notebook_tqdm\n"
     ]
    },
    {
     "data": {
      "text/plain": [
       "{'text': 'The people of the State of California do enact as follows:\\n\\n\\nSECTION 1.\\nChapter 11 (commencing with Section 122380) is added to Part 6 of Division 105 of the Health and Safety Code, to read:\\nCHAPTER  11. Pet Boarding Facilities\\n122380.\\nAs used in this chapter, the following definitions apply:\\n(a) “Enrichment” means providing objects or activities, appropriate to the needs of the species, as well as the age, size, and condition of the pet, that stimulate the pet and promote the pet’s well-being.\\n(b) “Permanent or fixed enclosure” means a structure, including, but not limited to, an exercise run, kennel, or room, used to restrict a pet, that provides for the effective separation of a pet from the pet’s waste products.\\n(c) “Person” means an individual, partnership, firm, limited liability company, joint-stock company, corporation, association, trust, estate, or other legal entity.\\n(d) “Pet” means any nonhuman animal housed in the pet boarding facility, including, but not limited to, mammals, birds, reptiles, and amphibians. However, “pet” does not include a horse.\\n(e) “Pet boarding facility” means any lot, building, structure, enclosure, or premises, or a portion thereof, whereupon four or more dogs, cats, or other pets in any combination are boarded at the request of, and in exchange for compensation provided by, their owner. However, “pet boarding facility” does not include a city, county, or city and county animal control agency, society for the prevention of cruelty to animals, or humane society that contracts for the care of stray or abandoned animals, or the premises of a veterinary facility that is registered pursuant to Section 4853 of the Business and Professions Code.\\n(f) “Pet boarding facility operator” or “operator” means a person who owns or operates, or both, a pet boarding facility.\\n(g) “Temporary enclosure” means a structure used to restrict a pet, including, but not limited to, a crate or cage, that does not provide for the effective separation of a pet from the pet’s waste products.\\n122381.\\nEach pet boarding facility operator shall be responsible for all of the following:\\n(a) Ensuring that the entire pet boarding facility, including all equipment therein, is structurally sound and maintained in good repair.\\n(b) Ensuring that pests do not inhabit any part of the pet boarding facility in a number large enough to be harmful, threatening, or annoying to the pets.\\n(c) Ensuring the containment of pets within the pet boarding facility, and, in the event that a pet escapes, making reasonable efforts to immediately capture the escaped pet.\\n(d) If an escaped pet has not been captured despite reasonable efforts, ensuring that all material facts regarding the pet’s escape are reported to the local agency for animal control and to the owner.\\n(e) Ensuring that the pet boarding facility’s interior building surfaces, including walls and floors, are constructed in a manner that permits them to be readily cleaned and sanitized.\\n(f) Ensuring that light, by natural or artificial means, is distributed in a manner that permits routine inspection and cleaning, and the proper care and maintenance of the pets.\\n(g) If pet grooming services are offered by a pet boarding facility, separating the grooming work area from the pet boarding facility’s permanent or fixed and temporary enclosures and ensuring that the grooming areas are cleaned and sanitized at least once daily.\\n(h) Storing food in an area separate from permanent or fixed enclosures or temporary enclosures.\\n(i) Maintaining an area for isolating sick pets from healthy pets.\\n122382.\\n(a) Each permanent or fixed and temporary enclosure shall comply with all of the following standards:\\n(1) Be structurally sound and maintained in good repair to protect the enclosed pet from injury, to contain the pet, to keep other animals out, and to promote the health and well-being of the pet.\\n(2) Be maintained in a comfortable and sanitary manner. When being cleaned in a manner or with a substance that is or may be harmful to a pet within the enclosure, that pet shall be removed from the enclosure.\\n(3) Be constructed of material suitable for regular cleaning and sanitizing.\\n(4) As needed to ensure the comfort and well-being of the pet, provide heating, cooling, lighting, ventilation, shade, and protection from the elements, including, but not limited to, the sun, wind, rain, and snow.\\n(5) Allow a pet to turn around freely, stand easily, and sit or lie down in a comfortable position.\\n(b) Each enclosure is either a permanent or fixed enclosure or a temporary enclosure.\\n(c) In addition to the requirements set forth in subdivision (a), a permanent or fixed enclosure for a cat shall provide an elevated platform appropriate for the size of the cat.\\n(d) A pet may be contained in a temporary enclosure for a period not to exceed 4 hours during the day and 12 hours at night or the length of time that is humane for that particular pet, whichever is less. However, the pet shall remain outside the temporary enclosure for no less than the amount of time needed for the pet to eliminate its waste.\\n122383.\\nA pet boarding facility operator shall comply with all of the following animal care requirements:\\n(a) House only one pet at a time in an enclosure unless otherwise consented to by the owner.\\n(b) Observe each pet as necessary, but no less than once every 24 hours, in order to recognize the signs of sickness, injury, or distress, and in order to ensure that the pet, food, and waste or debris is removed as necessary to prevent contamination or injury.\\n(c) Provide each pet with easy and convenient access to potable water at all times, or if the behavior of the pet makes unrestricted access to water impracticable, offer water as often as necessary to ensure the pet’s health and well-being. However, water may be restricted as directed by the owner or a licensed veterinarian.\\n(d) Provide each pet with nutritious food in quantities and at intervals suitable for that pet.\\n(e) Provide each pet daily with enrichment sufficient to maintain the behavioral health of the pet.\\n(f) Maintain and abide by written policies and procedures that address animal care, management and safe handling, disease prevention and control, routine care, preventive care, emergency care, veterinary treatment, and disaster planning, evacuation, and recovery that are applicable to the location of the pet boarding facility. These procedures shall be reviewed with each employee who provides animal care and shall be present, in writing, either electronically or physically, in the facility and made available to all employees.\\n(g) Isolate those pets that have or are suspected of having a contagious condition.\\n(h) Ensure that each sick or injured pet is immediately provided with appropriate care and, if prudent, veterinary treatment.\\n(i) Ensure that the owner of a pet is notified immediately that his or her pet is sick or injured unless the owner has indicated in writing that notification of any, or a particular, type of illness or injury is not required.\\n(j) In the event of a natural disaster, an emergency evacuation, or other similar occurrence, ensure that the humane care and treatment of each animal is provided for, as required by this chapter, to the extent access to the pet is reasonably available.\\n122384.\\n(a) A pet boarding facility operator shall provide each owner with written information describing all of the following:\\n(1) Days and times during which the pet boarding facility permits pets to be dropped off and picked up.\\n(2) Days and times during which personnel are onsite.\\n(3) The square footage of the permanent or fixed and temporary enclosures in which the species of pet that the owner is boarding is customarily contained.\\n(4) General observation practices during each 24-hour period for the species of pet that the owner is boarding is customarily observed by personnel.\\n(5) The pet boarding facility’s customary daily activity schedule for the species of pet that the owner is boarding.\\n(b) If the pet boarding facility will materially deviate from the customary practices described in the written information required by subdivision (a) with respect to an owner’s pet, the pet boarding facility operator shall disclose those deviations to the owner or patron, as appropriate.\\n122385.\\nA pet boarding facility shall maintain either of the following:\\n(a) A fire alarm system that is connected to a central reporting station that alerts the local fire department in case of fire.\\n(b) A fire suppression sprinkler system.\\n122386.\\n(a) An animal control officer, as defined in Section 830.9 of the Penal Code, a humane officer qualified pursuant to Section 14502 or 14503 of the Corporations Code, or a peace officer who detects a violation of Sections 122380 to 122385, inclusive, if he or she decides the violation warrants formal action, shall issue a single notice to correct that shall contain all of the following information:\\n(1) Specify each violation of this chapter found in the inspection.\\n(2) Identify the corrective action for each violation.\\n(3) Include a specific period of time during which the listed violation or violations are to be corrected.\\n(b) After issuing a notice to correct pursuant to this section, the officer or another qualified officer of the issuing agency shall verify compliance with this chapter by conducting a subsequent investigation of the pet boarding facility within a reasonable period of time.\\n(c) An exact, legible copy of the notice to correct shall be delivered to the pet boarding facility operator at the time he or she signs the notice. In the alternative, the issuing agency may personally deliver the notice to the operator within 48 hours of its issuance, excluding holidays and weekends. The signing of the notice is an acknowledgment of receipt and does not constitute an admission of guilt.\\n(d) A pet boarding facility operator who is verified to have complied with a notice to correct shall not be subject to subdivision (g).\\n(e) A pet boarding facility operator who violates the same provision of this chapter on more than one occasion within a five-year period is not eligible to receive a notice to correct, and is guilty of an infraction on the second violation, and is guilty of a misdemeanor on the third or subsequent violation.\\n(f) Notwithstanding subdivision (a), a pet boarding facility operator that causes or allows harm or injury to an animal, or allows an animal to be subject to an unreasonable risk of harm or injury is guilty of a misdemeanor.\\n(g) Except as provided in subdivisions (e) and (f), a pet boarding facility operator who violates any provision of this chapter is guilty of an infraction punishable by a fine not to exceed two hundred fifty dollars ($250) for the first violation and by a fine not to exceed one thousand dollars ($1,000) for each subsequent violation. The court shall weigh the gravity of the offense in setting the penalty.\\n122387.\\n(a) Nothing in this chapter shall be construed to in any way limit or affect the application or enforcement of any other law that protects animals or the rights of consumers, including, but not limited to, Section 597 of the Penal Code.\\n(b) Nothing in this chapter limits, or authorizes any act or omission that violates, Section 597 of the Penal Code, or any other local, state, or federal law that protects animals or the rights of consumers.\\n122388.\\nPursuant to Section 7 of Article XI of the California Constitution, a city, county, or city and county may adopt ordinances that establish additional standards and requirements for a pet boarding facility.\\nSEC. 2.\\nNo reimbursement is required by this act pursuant to Section 6 of Article XIII\\u2009B of the California Constitution because the only costs that may be incurred by a local agency or school district will be incurred because this act creates a new crime or infraction, eliminates a crime or infraction, or changes the penalty for a crime or infraction, within the meaning of Section 17556 of the Government Code, or changes the definition of a crime within the meaning of Section 6 of Article XIII\\u2009B of the California Constitution.',\n",
       " 'summary': 'Existing law regulates the care and maintenance of animals in the care of a pet store.\\nThis bill would establish procedures for the care and maintenance of pets boarded at a pet boarding facility, including, but not limited to, sanitation, provision of enrichment for the pet, health of the pet, and safety. The bill would specifically authorize a city, county, or city and county to adopt ordinances that establish additional standards and requirements for a pet boarding facility. The bill would require an animal control officer, a humane officer, or a peace officer who detects a violation of specified provisions by a pet boarding facility operator to issue a notice to correct and would provide that if the operator complies with the notice to correct he or she would not be subject to an infraction, except as provided. The bill would provide that an operator that causes or allows harm or injury to an animal or allows an animal to be subject to an unreasonable risk of harm or injury is guilty of a misdemeanor. The bill, except as provided, would make a violation of these provisions an infraction punishable by a fine not to exceed $250 for the first violation and not to exceed $1,000 for each subsequent violation. Because it would create a new crime, this bill would impose a state-mandated local program.\\nThe California Constitution requires the state to reimburse local agencies and school districts for certain costs mandated by the state. Statutory provisions establish procedures for making that reimbursement.\\nThis bill would provide that no reimbursement is required by this act for a specified reason.',\n",
       " 'title': 'An act to add Chapter 11 (commencing with Section 122380) to Part 6 of Division 105 of the Health and Safety Code, relating to pet boarding facilities.'}"
      ]
     },
     "execution_count": 1,
     "metadata": {},
     "output_type": "execute_result"
    }
   ],
   "source": [
    "# Load BillSum dataset\n",
    "from datasets import load_dataset\n",
    "\n",
    "billsum = load_dataset(\"billsum\", split=\"ca_test\")\n",
    "\n",
    "billsum = billsum.train_test_split(test_size=0.2)\n",
    "\n",
    "billsum[\"train\"][0]"
   ]
  },
  {
   "cell_type": "code",
   "execution_count": 2,
   "metadata": {},
   "outputs": [
    {
     "name": "stderr",
     "output_type": "stream",
     "text": [
      "Map: 100%|██████████| 989/989 [00:04<00:00, 221.37 examples/s]\n",
      "Map: 100%|██████████| 248/248 [00:01<00:00, 173.18 examples/s]\n"
     ]
    }
   ],
   "source": [
    "# Preprocess\n",
    "from transformers import AutoTokenizer\n",
    "\n",
    "checkpoint = \"google-t5/t5-small\"\n",
    "tokenizer = AutoTokenizer.from_pretrained(checkpoint)\n",
    "\n",
    "prefix = \"summarize: \"\n",
    "\n",
    "def preprocess_function(examples):\n",
    "    inputs = [prefix + doc for doc in examples[\"text\"]]\n",
    "    model_inputs = tokenizer(inputs, max_length=1024, truncation=True)\n",
    "\n",
    "    labels = tokenizer(text_target=examples[\"summary\"], max_length=128, truncation=True)\n",
    "\n",
    "    model_inputs[\"labels\"] = labels[\"input_ids\"]\n",
    "    return model_inputs\n",
    "\n",
    "tokenized_billsum = billsum.map(preprocess_function, batched=True)\n",
    "\n",
    "from transformers import DataCollatorForSeq2Seq\n",
    "\n",
    "data_collator = DataCollatorForSeq2Seq(tokenizer=tokenizer, model=checkpoint)"
   ]
  },
  {
   "cell_type": "code",
   "execution_count": 3,
   "metadata": {},
   "outputs": [
    {
     "name": "stderr",
     "output_type": "stream",
     "text": [
      "e:\\Miniconda3\\envs\\rsgrp\\Lib\\site-packages\\accelerate\\accelerator.py:494: FutureWarning: `torch.cuda.amp.GradScaler(args...)` is deprecated. Please use `torch.amp.GradScaler('cuda', args...)` instead.\n",
      "  self.scaler = torch.cuda.amp.GradScaler(**kwargs)\n",
      " 25%|██▌       | 62/248 [23:18<1:04:50, 20.92s/it]e:\\Miniconda3\\envs\\rsgrp\\Lib\\site-packages\\transformers\\generation\\utils.py:1220: UserWarning: Using the model-agnostic default `max_length` (=20) to control the generation length. We recommend setting `max_new_tokens` to control the maximum length of the generation.\n",
      "  warnings.warn(\n",
      "                                                  \n",
      " 25%|██▌       | 62/248 [33:58<1:04:50, 20.92s/it]"
     ]
    },
    {
     "name": "stdout",
     "output_type": "stream",
     "text": [
      "{'eval_loss': 2.8460168838500977, 'eval_rouge1': 0.126, 'eval_rouge2': 0.0361, 'eval_rougeL': 0.1039, 'eval_rougeLsum': 0.1042, 'eval_gen_len': 19.0, 'eval_runtime': 639.3669, 'eval_samples_per_second': 0.388, 'eval_steps_per_second': 0.025, 'epoch': 1.0}\n"
     ]
    },
    {
     "name": "stderr",
     "output_type": "stream",
     "text": [
      "                                                    \n",
      " 50%|█████     | 124/248 [1:06:42<43:09, 20.89s/it]"
     ]
    },
    {
     "name": "stdout",
     "output_type": "stream",
     "text": [
      "{'eval_loss': 2.6353065967559814, 'eval_rouge1': 0.1351, 'eval_rouge2': 0.0452, 'eval_rougeL': 0.111, 'eval_rougeLsum': 0.111, 'eval_gen_len': 19.0, 'eval_runtime': 635.154, 'eval_samples_per_second': 0.39, 'eval_steps_per_second': 0.025, 'epoch': 2.0}\n"
     ]
    },
    {
     "name": "stderr",
     "output_type": "stream",
     "text": [
      "                                                      \n",
      " 75%|███████▌  | 186/248 [1:39:11<20:55, 20.25s/it]"
     ]
    },
    {
     "name": "stdout",
     "output_type": "stream",
     "text": [
      "{'eval_loss': 2.572197437286377, 'eval_rouge1': 0.1376, 'eval_rouge2': 0.047, 'eval_rougeL': 0.113, 'eval_rougeLsum': 0.113, 'eval_gen_len': 19.0, 'eval_runtime': 617.1085, 'eval_samples_per_second': 0.402, 'eval_steps_per_second': 0.026, 'epoch': 3.0}\n"
     ]
    },
    {
     "name": "stderr",
     "output_type": "stream",
     "text": [
      "100%|██████████| 248/248 [2:02:43<00:00, 21.06s/it]   e:\\Miniconda3\\envs\\rsgrp\\Lib\\site-packages\\transformers\\generation\\utils.py:1220: UserWarning: Using the model-agnostic default `max_length` (=20) to control the generation length. We recommend setting `max_new_tokens` to control the maximum length of the generation.\n",
      "  warnings.warn(\n",
      "                                                   \n",
      "100%|██████████| 248/248 [2:13:30<00:00, 32.30s/it]"
     ]
    },
    {
     "name": "stdout",
     "output_type": "stream",
     "text": [
      "{'eval_loss': 2.5564796924591064, 'eval_rouge1': 0.1383, 'eval_rouge2': 0.0482, 'eval_rougeL': 0.1149, 'eval_rougeLsum': 0.1149, 'eval_gen_len': 19.0, 'eval_runtime': 642.2628, 'eval_samples_per_second': 0.386, 'eval_steps_per_second': 0.025, 'epoch': 4.0}\n",
      "{'train_runtime': 8010.71, 'train_samples_per_second': 0.494, 'train_steps_per_second': 0.031, 'train_loss': 3.0183575537896927, 'epoch': 4.0}\n"
     ]
    },
    {
     "name": "stderr",
     "output_type": "stream",
     "text": [
      "\n"
     ]
    },
    {
     "data": {
      "text/plain": [
       "TrainOutput(global_step=248, training_loss=3.0183575537896927, metrics={'train_runtime': 8010.71, 'train_samples_per_second': 0.494, 'train_steps_per_second': 0.031, 'total_flos': 1070824333246464.0, 'train_loss': 3.0183575537896927, 'epoch': 4.0})"
      ]
     },
     "execution_count": 3,
     "metadata": {},
     "output_type": "execute_result"
    }
   ],
   "source": [
    "# Evaluate\n",
    "import evaluate\n",
    "\n",
    "rouge = evaluate.load(\"rouge\")\n",
    "\n",
    "import numpy as np\n",
    "\n",
    "def compute_metrics(eval_pred):\n",
    "    predictions, labels = eval_pred\n",
    "    decoded_preds = tokenizer.batch_decode(predictions, skip_special_tokens=True)\n",
    "    labels = np.where(labels != -100, labels, tokenizer.pad_token_id)\n",
    "    decoded_labels = tokenizer.batch_decode(labels, skip_special_tokens=True)\n",
    "\n",
    "    result = rouge.compute(predictions=decoded_preds, references=decoded_labels, use_stemmer=True)\n",
    "\n",
    "    prediction_lens = [np.count_nonzero(pred != tokenizer.pad_token_id) for pred in predictions]\n",
    "    result[\"gen_len\"] = np.mean(prediction_lens)\n",
    "\n",
    "    return {k: round(v, 4) for k, v in result.items()}\n",
    "\n",
    "from transformers import AutoModelForSeq2SeqLM, Seq2SeqTrainingArguments, Seq2SeqTrainer\n",
    "\n",
    "model = AutoModelForSeq2SeqLM.from_pretrained(checkpoint)\n",
    "\n",
    "training_args = Seq2SeqTrainingArguments(\n",
    "    output_dir=\"D:/Work/Research Group/\",\n",
    "    eval_strategy=\"epoch\",\n",
    "    learning_rate=2e-5,\n",
    "    per_device_train_batch_size=16,\n",
    "    per_device_eval_batch_size=16,\n",
    "    weight_decay=0.01,\n",
    "    save_total_limit=3,\n",
    "    num_train_epochs=4,\n",
    "    predict_with_generate=True,\n",
    "    fp16=True, #change to bf16=True for XPU\n",
    "    push_to_hub=False,\n",
    ")\n",
    "\n",
    "trainer = Seq2SeqTrainer(\n",
    "    model=model,\n",
    "    args=training_args,\n",
    "    train_dataset=tokenized_billsum[\"train\"],\n",
    "    eval_dataset=tokenized_billsum[\"test\"],\n",
    "    tokenizer=tokenizer,\n",
    "    data_collator=data_collator,\n",
    "    compute_metrics=compute_metrics,\n",
    ")\n",
    "\n",
    "trainer.train()"
   ]
  },
  {
   "cell_type": "code",
   "execution_count": 14,
   "metadata": {},
   "outputs": [
    {
     "name": "stderr",
     "output_type": "stream",
     "text": [
      "Hardware accelerator e.g. GPU is available in the environment, but no `device` argument is passed to the `Pipeline` object. Model will be on CPU.\n"
     ]
    },
    {
     "name": "stdout",
     "output_type": "stream",
     "text": [
      "Split : ca_test\n",
      "Dataset({\n",
      "    features: ['text', 'summary', 'title'],\n",
      "    num_rows: 1237\n",
      "})\n",
      "\n",
      "{'rouge1': 0.29603126540733893, 'rouge2': 0.1404817532805786, 'rougeL': 0.18725051415981508, 'rougeLsum': 0.23762570502519492}\n"
     ]
    }
   ],
   "source": [
    "import random\n",
    "from transformers import pipeline\n",
    "from datasets import load_dataset\n",
    "import evaluate\n",
    "\n",
    "# Load the billsum dataset\n",
    "dataset = load_dataset(\"billsum\")\n",
    "\n",
    "# select split\n",
    "split = 'ca_test'\n",
    "# split = random.choice(['ca_test', 'test', 'train'])\n",
    "\n",
    "print(f\"Split : {split}\")\n",
    "print(f\"{billsum[split]}\")\n",
    "print()\n",
    "\n",
    "summarizer = pipeline(\"summarization\", model=model, tokenizer=tokenizer)\n",
    "\n",
    "rouge = evaluate.load(\"rouge\")\n",
    "\n",
    "summaries = []\n",
    "references = []\n",
    "\n",
    "n_egs = 10\n",
    "\n",
    "# for idx in random.sample(range(len(dataset[split])), n_egs):\n",
    "for idx in range(n_egs):\n",
    "    text = dataset[split][idx]['text']\n",
    "    reference_summary = dataset[split][idx]['summary']\n",
    "    \n",
    "    summarized_text = summarizer(text, max_length=150, min_length=40, do_sample=False)[0]['summary_text']\n",
    "    \n",
    "    summaries.append(summarized_text)\n",
    "    references.append(reference_summary)\n",
    "\n",
    "results = rouge.compute(predictions=summaries, references=references, use_stemmer=True)\n",
    "\n",
    "print(results)"
   ]
  },
  {
   "cell_type": "code",
   "execution_count": null,
   "metadata": {},
   "outputs": [],
   "source": []
  }
 ],
 "metadata": {
  "kernelspec": {
   "display_name": "rsgrp",
   "language": "python",
   "name": "python3"
  },
  "language_info": {
   "codemirror_mode": {
    "name": "ipython",
    "version": 3
   },
   "file_extension": ".py",
   "mimetype": "text/x-python",
   "name": "python",
   "nbconvert_exporter": "python",
   "pygments_lexer": "ipython3",
   "version": "3.12.7"
  }
 },
 "nbformat": 4,
 "nbformat_minor": 2
}
